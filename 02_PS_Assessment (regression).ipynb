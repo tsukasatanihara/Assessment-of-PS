{
 "cells": [
  {
   "cell_type": "code",
   "execution_count": 1,
   "id": "a6932143",
   "metadata": {},
   "outputs": [],
   "source": [
    "# import data\n",
    "import pandas as pd\n",
    "\n",
    "bio = pd.read_excel(\"biomarkers.xlsx\")\n",
    "cov = pd.read_excel(\"covariates.xlsx\", sheet_name='Ark1')"
   ]
  },
  {
   "cell_type": "markdown",
   "id": "70ede72f",
   "metadata": {},
   "source": [
    "# Merge the data from both files based on the ID"
   ]
  },
  {
   "cell_type": "code",
   "execution_count": 2,
   "id": "e6a496e5",
   "metadata": {},
   "outputs": [
    {
     "name": "stdout",
     "output_type": "stream",
     "text": [
      "rows: 117\n"
     ]
    }
   ],
   "source": [
    "# Extract only the values at the time of inclusion for bio\n",
    "filtered_bio = bio[bio['Biomarker'].str.endswith('0weeks')]\n",
    "# Count the number of rows\n",
    "rows = filtered_bio.shape[0]\n",
    "print(f'rows: {rows}')"
   ]
  },
  {
   "cell_type": "code",
   "execution_count": 3,
   "id": "857b08d0",
   "metadata": {
    "scrolled": true
   },
   "outputs": [
    {
     "name": "stdout",
     "output_type": "stream",
     "text": [
      "      Biomarker  IL-8  VEGF-A    OPG  TGF-beta-1  IL-6  CXCL9  CXCL1  IL-18  \\\n",
      "0    126-0weeks  7.63   11.51  10.20        8.83  3.52   6.16   9.45   7.91   \n",
      "2    127-0weeks  6.93   10.92  10.30        6.59  2.73   6.14   7.31   7.95   \n",
      "5    128-0weeks  8.62   12.51  10.56        8.51  3.71   7.34   9.90   8.72   \n",
      "8    129-0weeks  8.16   11.16  10.61        8.76  3.85   5.81   9.18   7.49   \n",
      "11   130-0weeks  8.81   12.53  11.23        9.41  4.22   6.35   9.34   9.00   \n",
      "..          ...   ...     ...    ...         ...   ...    ...    ...    ...   \n",
      "336  118-0weeks  7.81   12.05  10.35        7.91  4.10   6.66   7.66   9.37   \n",
      "338  119-0weeks  8.18   11.97  10.75        9.39  3.05   7.03   9.33   8.64   \n",
      "341  121-0weeks  7.01   12.53  10.91        8.74  3.08   5.95   7.61   8.27   \n",
      "344  122-0weeks  7.86   12.80  10.73        9.30  2.93   6.73   9.60   8.25   \n",
      "346  124-0weeks  6.51   11.38  10.07        7.78  3.29   5.97   7.17   8.68   \n",
      "\n",
      "     CSF-1 PatientID  \n",
      "0     8.41       126  \n",
      "2     8.40       127  \n",
      "5     8.72       128  \n",
      "8     8.39       129  \n",
      "11    9.78       130  \n",
      "..     ...       ...  \n",
      "336   8.54       118  \n",
      "338   8.64       119  \n",
      "341   8.52       121  \n",
      "344   8.60       122  \n",
      "346   8.55       124  \n",
      "\n",
      "[117 rows x 11 columns]\n"
     ]
    },
    {
     "name": "stderr",
     "output_type": "stream",
     "text": [
      "C:\\Users\\tanihara\\AppData\\Local\\Temp\\ipykernel_11788\\1922404316.py:2: SettingWithCopyWarning: \n",
      "A value is trying to be set on a copy of a slice from a DataFrame.\n",
      "Try using .loc[row_indexer,col_indexer] = value instead\n",
      "\n",
      "See the caveats in the documentation: https://pandas.pydata.org/pandas-docs/stable/user_guide/indexing.html#returning-a-view-versus-a-copy\n",
      "  filtered_bio['PatientID'] = filtered_bio['Biomarker'].apply(lambda x: x.split('-')[0])\n"
     ]
    }
   ],
   "source": [
    "# Extract the ID numbers from filtered_bio\n",
    "filtered_bio['PatientID'] = filtered_bio['Biomarker'].apply(lambda x: x.split('-')[0])\n",
    "print(filtered_bio)"
   ]
  },
  {
   "cell_type": "code",
   "execution_count": 4,
   "id": "411a641a",
   "metadata": {},
   "outputs": [
    {
     "name": "stderr",
     "output_type": "stream",
     "text": [
      "C:\\Users\\tanihara\\AppData\\Local\\Temp\\ipykernel_11788\\1845910225.py:2: SettingWithCopyWarning: \n",
      "A value is trying to be set on a copy of a slice from a DataFrame.\n",
      "Try using .loc[row_indexer,col_indexer] = value instead\n",
      "\n",
      "See the caveats in the documentation: https://pandas.pydata.org/pandas-docs/stable/user_guide/indexing.html#returning-a-view-versus-a-copy\n",
      "  filtered_bio['PatientID'] = filtered_bio['PatientID'].astype(int)\n"
     ]
    }
   ],
   "source": [
    "# Convert the ID columns in filtered_bio and cov to integer type\n",
    "filtered_bio['PatientID'] = filtered_bio['PatientID'].astype(int)\n",
    "cov['PatientID'] = cov['PatientID'].astype(int)"
   ]
  },
  {
   "cell_type": "code",
   "execution_count": 5,
   "id": "dc32d3a5",
   "metadata": {
    "scrolled": true
   },
   "outputs": [
    {
     "name": "stdout",
     "output_type": "stream",
     "text": [
      "      Biomarker  IL-8  VEGF-A    OPG  TGF-beta-1  IL-6  CXCL9  CXCL1  IL-18  \\\n",
      "0    126-0weeks  7.63   11.51  10.20        8.83  3.52   6.16   9.45   7.91   \n",
      "1    127-0weeks  6.93   10.92  10.30        6.59  2.73   6.14   7.31   7.95   \n",
      "2    128-0weeks  8.62   12.51  10.56        8.51  3.71   7.34   9.90   8.72   \n",
      "3    129-0weeks  8.16   11.16  10.61        8.76  3.85   5.81   9.18   7.49   \n",
      "4    130-0weeks  8.81   12.53  11.23        9.41  4.22   6.35   9.34   9.00   \n",
      "..          ...   ...     ...    ...         ...   ...    ...    ...    ...   \n",
      "112  118-0weeks  7.81   12.05  10.35        7.91  4.10   6.66   7.66   9.37   \n",
      "113  119-0weeks  8.18   11.97  10.75        9.39  3.05   7.03   9.33   8.64   \n",
      "114  121-0weeks  7.01   12.53  10.91        8.74  3.08   5.95   7.61   8.27   \n",
      "115  122-0weeks  7.86   12.80  10.73        9.30  2.93   6.73   9.60   8.25   \n",
      "116  124-0weeks  6.51   11.38  10.07        7.78  3.29   5.97   7.17   8.68   \n",
      "\n",
      "     CSF-1  PatientID  Age  Sex (1=male, 2=female)  Smoker (1=yes, 2=no)  \\\n",
      "0     8.41        126   41                       2                     1   \n",
      "1     8.40        127   35                       1                     2   \n",
      "2     8.72        128   57                       2                     2   \n",
      "3     8.39        129   28                       1                     2   \n",
      "4     9.78        130   58                       2                     1   \n",
      "..     ...        ...  ...                     ...                   ...   \n",
      "112   8.54        118   52                       2                     1   \n",
      "113   8.64        119   41                       1                     2   \n",
      "114   8.52        121   34                       1                     1   \n",
      "115   8.60        122   44                       1                     2   \n",
      "116   8.55        124   29                       2                     2   \n",
      "\n",
      "     VAS-at-inclusion  Vas-12months  \n",
      "0                 6.5           0.0  \n",
      "1                 9.0          10.0  \n",
      "2                 8.0           4.0  \n",
      "3                 0.5           0.1  \n",
      "4                 6.0           5.0  \n",
      "..                ...           ...  \n",
      "112               3.0           3.0  \n",
      "113               6.5           0.5  \n",
      "114               6.5           0.2  \n",
      "115               8.0           5.0  \n",
      "116               4.0           1.3  \n",
      "\n",
      "[117 rows x 16 columns]\n"
     ]
    }
   ],
   "source": [
    "# Merge filtered_bio and cov based on the ID\n",
    "merged_df = pd.merge(filtered_bio, cov, on='PatientID', how='inner')\n",
    "print(merged_df)"
   ]
  },
  {
   "cell_type": "code",
   "execution_count": null,
   "id": "f6e409a6",
   "metadata": {},
   "outputs": [],
   "source": []
  },
  {
   "cell_type": "markdown",
   "id": "1f5b7642",
   "metadata": {},
   "source": [
    "# Building a Regression Model"
   ]
  },
  {
   "cell_type": "code",
   "execution_count": 6,
   "id": "c86b574c",
   "metadata": {},
   "outputs": [],
   "source": [
    "# Remove rows containing missing values\n",
    "cleaned_df = merged_df.dropna(subset=['Vas-12months'])"
   ]
  },
  {
   "cell_type": "code",
   "execution_count": 13,
   "id": "67beaaa5",
   "metadata": {},
   "outputs": [
    {
     "name": "stdout",
     "output_type": "stream",
     "text": [
      "Adjusted R-squared: 0.19205508975027463\n",
      "Coefficient:\n",
      "                        Coefficient\n",
      "IL-8                       1.059788\n",
      "VEGF-A                     1.473412\n",
      "OPG                       -2.124257\n",
      "TGF-beta-1                -1.021919\n",
      "IL-6                       0.897379\n",
      "CXCL9                     -0.312225\n",
      "CXCL1                     -0.224792\n",
      "IL-18                     -0.536127\n",
      "CSF-1                      1.663469\n",
      "Age                       -0.035122\n",
      "Sex (1=male, 2=female)     0.253498\n",
      "Smoker (1=yes, 2=no)      -1.124006\n",
      "\n",
      "intercept: 3.287381412796533\n"
     ]
    }
   ],
   "source": [
    "from sklearn.model_selection import train_test_split\n",
    "from sklearn.linear_model import LinearRegression\n",
    "import numpy as np\n",
    "\n",
    "# Define dependent and independent variables\n",
    "X = cleaned_df[['IL-8', 'VEGF-A', 'OPG', 'TGF-beta-1', 'IL-6', 'CXCL9', 'CXCL1', 'IL-18', 'CSF-1', 'Age', 'Sex (1=male, 2=female)', 'Smoker (1=yes, 2=no)']] \n",
    "y = cleaned_df['Vas-12months'] \n",
    "\n",
    "# Split the data into training and test sets (training:test = 80%:20%)\n",
    "X_train, X_test, y_train, y_test = train_test_split(X, y, test_size=0.2, random_state=42)\n",
    "\n",
    "# Create and fit a multiple regression model\n",
    "model = LinearRegression()\n",
    "model.fit(X_train, y_train)\n",
    "\n",
    "# Calculate the model's R^2 value for the training data\n",
    "r2 = model.score(X_train, y_train)\n",
    "# Calculate the adjusted coefficient of determination\n",
    "n = X_train.shape[0]  # sample size\n",
    "p = X_train.shape[1]  # the number of independent variables\n",
    "adj_r2 = 1 - (1 - r2) * (n - 1) / (n - p - 1)\n",
    "print(f'Adjusted R-squared: {adj_r2}')\n",
    "\n",
    "# Display the fitted parameter values (coefficients) and the constant term (intercept)\n",
    "print(\"Coefficient:\")\n",
    "coefficients = pd.DataFrame(model.coef_, X.columns, columns=['Coefficient'])\n",
    "print(coefficients)\n",
    "print(\"\\nintercept:\", model.intercept_)"
   ]
  },
  {
   "cell_type": "code",
   "execution_count": 15,
   "id": "3a974f36",
   "metadata": {},
   "outputs": [],
   "source": [
    "import matplotlib.pyplot as plt\n",
    "import numpy as np\n",
    "import seaborn as sns\n",
    "\n",
    "# Calculate predicted values\n",
    "y_pred = model.predict(X_train)\n",
    "\n",
    "# Scatter plot and regression line\n",
    "plt.figure(figsize=(8, 6))\n",
    "plt.scatter(y_train, y_pred, color='blue', label='data point')\n",
    "plt.plot([y_train.min(), y_train.max()], [y_train.min(), y_train.max()], 'k--', lw=2, label='regression line')\n",
    "plt.xlabel('actual values', fontsize=20)\n",
    "plt.ylabel('predicted values', fontsize=20)\n",
    "plt.legend()\n",
    "plt.savefig(f'plot_training.png')  \n",
    "plt.close()  \n",
    "    \n",
    "# Residual plot\n",
    "residuals = y_train - y_pred\n",
    "plt.figure(figsize=(8, 6))\n",
    "plt.scatter(y_pred, residuals, color='red', label='residuals')\n",
    "plt.hlines(y=0, xmin=y_pred.min(), xmax=y_pred.max(), colors='black', linestyles='dashed')\n",
    "plt.xlabel('predicted values', fontsize=20)\n",
    "plt.ylabel('residuals', fontsize=20)\n",
    "plt.legend()\n",
    "plt.savefig(f'r-residuals.png')  \n",
    "plt.close()  \n",
    "\n",
    "# Histogram of residuals\n",
    "plt.figure(figsize=(10, 6))\n",
    "sns.histplot(residuals, kde=True, bins=20)\n",
    "plt.xlabel('Residuals', fontsize=20)\n",
    "plt.ylabel('Frequency', fontsize=20)\n",
    "plt.savefig(f'r-residuals_hist.png')  \n",
    "plt.close()  "
   ]
  },
  {
   "cell_type": "code",
   "execution_count": 18,
   "id": "77e1431b",
   "metadata": {
    "scrolled": true
   },
   "outputs": [
    {
     "data": {
      "text/html": [
       "<div>\n",
       "<style scoped>\n",
       "    .dataframe tbody tr th:only-of-type {\n",
       "        vertical-align: middle;\n",
       "    }\n",
       "\n",
       "    .dataframe tbody tr th {\n",
       "        vertical-align: top;\n",
       "    }\n",
       "\n",
       "    .dataframe thead th {\n",
       "        text-align: right;\n",
       "    }\n",
       "</style>\n",
       "<table border=\"1\" class=\"dataframe\">\n",
       "  <thead>\n",
       "    <tr style=\"text-align: right;\">\n",
       "      <th></th>\n",
       "      <th>Actual Vas-12months</th>\n",
       "      <th>Predicted Vas-12months</th>\n",
       "    </tr>\n",
       "  </thead>\n",
       "  <tbody>\n",
       "    <tr>\n",
       "      <th>0</th>\n",
       "      <td>3.7</td>\n",
       "      <td>3.690403</td>\n",
       "    </tr>\n",
       "    <tr>\n",
       "      <th>1</th>\n",
       "      <td>5.0</td>\n",
       "      <td>6.108549</td>\n",
       "    </tr>\n",
       "    <tr>\n",
       "      <th>2</th>\n",
       "      <td>3.5</td>\n",
       "      <td>3.273627</td>\n",
       "    </tr>\n",
       "    <tr>\n",
       "      <th>3</th>\n",
       "      <td>0.0</td>\n",
       "      <td>3.238037</td>\n",
       "    </tr>\n",
       "    <tr>\n",
       "      <th>4</th>\n",
       "      <td>0.0</td>\n",
       "      <td>1.699745</td>\n",
       "    </tr>\n",
       "    <tr>\n",
       "      <th>5</th>\n",
       "      <td>9.5</td>\n",
       "      <td>5.217898</td>\n",
       "    </tr>\n",
       "    <tr>\n",
       "      <th>6</th>\n",
       "      <td>3.5</td>\n",
       "      <td>1.784642</td>\n",
       "    </tr>\n",
       "    <tr>\n",
       "      <th>7</th>\n",
       "      <td>9.0</td>\n",
       "      <td>2.658885</td>\n",
       "    </tr>\n",
       "    <tr>\n",
       "      <th>8</th>\n",
       "      <td>0.0</td>\n",
       "      <td>3.252753</td>\n",
       "    </tr>\n",
       "    <tr>\n",
       "      <th>9</th>\n",
       "      <td>0.0</td>\n",
       "      <td>3.591382</td>\n",
       "    </tr>\n",
       "    <tr>\n",
       "      <th>10</th>\n",
       "      <td>8.5</td>\n",
       "      <td>3.866550</td>\n",
       "    </tr>\n",
       "    <tr>\n",
       "      <th>11</th>\n",
       "      <td>2.0</td>\n",
       "      <td>2.362820</td>\n",
       "    </tr>\n",
       "    <tr>\n",
       "      <th>12</th>\n",
       "      <td>9.5</td>\n",
       "      <td>8.338937</td>\n",
       "    </tr>\n",
       "    <tr>\n",
       "      <th>13</th>\n",
       "      <td>5.0</td>\n",
       "      <td>2.892807</td>\n",
       "    </tr>\n",
       "    <tr>\n",
       "      <th>14</th>\n",
       "      <td>9.0</td>\n",
       "      <td>3.893995</td>\n",
       "    </tr>\n",
       "    <tr>\n",
       "      <th>15</th>\n",
       "      <td>0.0</td>\n",
       "      <td>4.444748</td>\n",
       "    </tr>\n",
       "    <tr>\n",
       "      <th>16</th>\n",
       "      <td>0.2</td>\n",
       "      <td>5.338601</td>\n",
       "    </tr>\n",
       "    <tr>\n",
       "      <th>17</th>\n",
       "      <td>5.0</td>\n",
       "      <td>3.330662</td>\n",
       "    </tr>\n",
       "    <tr>\n",
       "      <th>18</th>\n",
       "      <td>6.1</td>\n",
       "      <td>1.805969</td>\n",
       "    </tr>\n",
       "    <tr>\n",
       "      <th>19</th>\n",
       "      <td>1.0</td>\n",
       "      <td>3.138471</td>\n",
       "    </tr>\n",
       "    <tr>\n",
       "      <th>20</th>\n",
       "      <td>3.0</td>\n",
       "      <td>5.213795</td>\n",
       "    </tr>\n",
       "    <tr>\n",
       "      <th>21</th>\n",
       "      <td>0.2</td>\n",
       "      <td>3.940979</td>\n",
       "    </tr>\n",
       "    <tr>\n",
       "      <th>22</th>\n",
       "      <td>3.9</td>\n",
       "      <td>3.172826</td>\n",
       "    </tr>\n",
       "  </tbody>\n",
       "</table>\n",
       "</div>"
      ],
      "text/plain": [
       "    Actual Vas-12months  Predicted Vas-12months\n",
       "0                   3.7                3.690403\n",
       "1                   5.0                6.108549\n",
       "2                   3.5                3.273627\n",
       "3                   0.0                3.238037\n",
       "4                   0.0                1.699745\n",
       "5                   9.5                5.217898\n",
       "6                   3.5                1.784642\n",
       "7                   9.0                2.658885\n",
       "8                   0.0                3.252753\n",
       "9                   0.0                3.591382\n",
       "10                  8.5                3.866550\n",
       "11                  2.0                2.362820\n",
       "12                  9.5                8.338937\n",
       "13                  5.0                2.892807\n",
       "14                  9.0                3.893995\n",
       "15                  0.0                4.444748\n",
       "16                  0.2                5.338601\n",
       "17                  5.0                3.330662\n",
       "18                  6.1                1.805969\n",
       "19                  1.0                3.138471\n",
       "20                  3.0                5.213795\n",
       "21                  0.2                3.940979\n",
       "22                  3.9                3.172826"
      ]
     },
     "execution_count": 18,
     "metadata": {},
     "output_type": "execute_result"
    }
   ],
   "source": [
    "# Calculate predicted values\n",
    "y_pred = model.predict(X_test)\n",
    "\n",
    "# Create a dataframe for comparing actual and predicted values\n",
    "comparison_df = pd.DataFrame({'Actual Vas-12months': y_test, 'Predicted Vas-12months': y_pred})\n",
    "\n",
    "# Display comparison results between actual and predicted values\n",
    "comparison_df.reset_index(drop=True, inplace=True)\n",
    "comparison_df"
   ]
  },
  {
   "cell_type": "code",
   "execution_count": null,
   "id": "373f9d68",
   "metadata": {},
   "outputs": [],
   "source": [
    "# Scatter plot\n",
    "plt.figure(figsize=(10, 6))\n",
    "plt.scatter(comparison_df['Actual Vas-12months'], comparison_df['Predicted Vas-12months'], color='blue', label='Data points')\n",
    "plt.plot([y_test.min(), y_test.max()], [y_test.min(), y_test.max()], 'k--', lw=2, label='Identity line')\n",
    "plt.xlabel('Actual Vas-12months', fontsize=20)\n",
    "plt.ylabel('Predicted Vas-12months', fontsize=20)\n",
    "plt.legend()\n",
    "plt.savefig(f'plot_test.png')  \n",
    "plt.close() "
   ]
  },
  {
   "cell_type": "code",
   "execution_count": 13,
   "id": "662cb296",
   "metadata": {},
   "outputs": [
    {
     "name": "stdout",
     "output_type": "stream",
     "text": [
      "Mean Squared Error (MSE): 10.628931155806434\n"
     ]
    }
   ],
   "source": [
    "from sklearn.metrics import mean_squared_error\n",
    "\n",
    "# Calculate Mean Squared Error (MSE) for statistical evaluation\n",
    "mse = mean_squared_error(y_test, y_pred)\n",
    "\n",
    "print(f'Mean Squared Error (MSE): {mse}')"
   ]
  },
  {
   "cell_type": "code",
   "execution_count": 15,
   "id": "a19479c5",
   "metadata": {},
   "outputs": [
    {
     "data": {
      "text/plain": [
       "(3.6339130434782607, 9.545594202898549, 10.0, 0.0)"
      ]
     },
     "execution_count": 15,
     "metadata": {},
     "output_type": "execute_result"
    }
   ],
   "source": [
    "column_name = 'Vas-12months'\n",
    "\n",
    "# Determine Mean, Variance, Maximum, and Minimum values\n",
    "mean_value = cleaned_df[column_name].mean()\n",
    "variance = cleaned_df[column_name].var()\n",
    "max_value = cleaned_df[column_name].max()\n",
    "min_value = cleaned_df[column_name].min()\n",
    "\n",
    "(mean_value, variance, max_value, min_value)"
   ]
  },
  {
   "cell_type": "markdown",
   "id": "e8163e57",
   "metadata": {},
   "source": [
    "# Reproduce regression analysis with statsmodels"
   ]
  },
  {
   "cell_type": "code",
   "execution_count": 15,
   "id": "56c5f19d",
   "metadata": {},
   "outputs": [
    {
     "name": "stdout",
     "output_type": "stream",
     "text": [
      "                            OLS Regression Results                            \n",
      "==============================================================================\n",
      "Dep. Variable:           Vas-12months   R-squared:                       0.299\n",
      "Model:                            OLS   Adj. R-squared:                  0.192\n",
      "Method:                 Least Squares   F-statistic:                     2.803\n",
      "Date:                Sat, 10 Feb 2024   Prob (F-statistic):            0.00308\n",
      "Time:                        21:12:30   Log-Likelihood:                -215.22\n",
      "No. Observations:                  92   AIC:                             456.4\n",
      "Df Residuals:                      79   BIC:                             489.2\n",
      "Df Model:                          12                                         \n",
      "Covariance Type:            nonrobust                                         \n",
      "==========================================================================================\n",
      "                             coef    std err          t      P>|t|      [0.025      0.975]\n",
      "------------------------------------------------------------------------------------------\n",
      "const                      3.2874     12.318      0.267      0.790     -21.230      27.805\n",
      "IL-8                       1.0598      0.598      1.772      0.080      -0.130       2.250\n",
      "VEGF-A                     1.4734      0.797      1.849      0.068      -0.112       3.059\n",
      "OPG                       -2.1243      0.809     -2.625      0.010      -3.735      -0.514\n",
      "TGF-beta-1                -1.0219      0.670     -1.526      0.131      -2.355       0.311\n",
      "IL-6                       0.8974      0.333      2.698      0.009       0.235       1.559\n",
      "CXCL9                     -0.3122      0.374     -0.835      0.406      -1.057       0.432\n",
      "CXCL1                     -0.2248      0.528     -0.426      0.672      -1.276       0.826\n",
      "IL-18                     -0.5361      0.526     -1.020      0.311      -1.583       0.510\n",
      "CSF-1                      1.6635      1.676      0.993      0.324      -1.673       4.999\n",
      "Age                       -0.0351      0.033     -1.066      0.290      -0.101       0.030\n",
      "Sex (1=male, 2=female)     0.2535      0.620      0.409      0.684      -0.981       1.488\n",
      "Smoker (1=yes, 2=no)      -1.1240      0.680     -1.653      0.102      -2.477       0.229\n",
      "==============================================================================\n",
      "Omnibus:                        5.496   Durbin-Watson:                   1.922\n",
      "Prob(Omnibus):                  0.064   Jarque-Bera (JB):                5.592\n",
      "Skew:                           0.579   Prob(JB):                       0.0611\n",
      "Kurtosis:                       2.657   Cond. No.                     2.16e+03\n",
      "==============================================================================\n",
      "\n",
      "Notes:\n",
      "[1] Standard Errors assume that the covariance matrix of the errors is correctly specified.\n",
      "[2] The condition number is large, 2.16e+03. This might indicate that there are\n",
      "strong multicollinearity or other numerical problems.\n"
     ]
    }
   ],
   "source": [
    "import statsmodels.api as sm\n",
    "from sklearn.model_selection import train_test_split\n",
    "\n",
    "X = cleaned_df[['IL-8', 'VEGF-A', 'OPG', 'TGF-beta-1', 'IL-6', 'CXCL9', 'CXCL1', 'IL-18', 'CSF-1', 'Age', 'Sex (1=male, 2=female)', 'Smoker (1=yes, 2=no)']]  \n",
    "y = cleaned_df['Vas-12months']\n",
    "\n",
    "X_train, X_test, y_train, y_test = train_test_split(X, y, test_size=0.2, random_state=42)\n",
    "\n",
    "X_train = sm.add_constant(X_train)\n",
    "\n",
    "model = sm.OLS(y_train, X_train).fit()\n",
    "\n",
    "# 結果の要約を表示\n",
    "print(model.summary())"
   ]
  }
 ],
 "metadata": {
  "kernelspec": {
   "display_name": "Python 3",
   "language": "python",
   "name": "python3"
  },
  "language_info": {
   "codemirror_mode": {
    "name": "ipython",
    "version": 3
   },
   "file_extension": ".py",
   "mimetype": "text/x-python",
   "name": "python",
   "nbconvert_exporter": "python",
   "pygments_lexer": "ipython3",
   "version": "3.11.4"
  }
 },
 "nbformat": 4,
 "nbformat_minor": 5
}
