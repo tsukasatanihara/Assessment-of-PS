{
 "cells": [
  {
   "cell_type": "code",
   "execution_count": 1,
   "id": "8a3c488f",
   "metadata": {},
   "outputs": [],
   "source": [
    "# import data\n",
    "import pandas as pd\n",
    "\n",
    "bio = pd.read_excel(\"biomarkers.xlsx\")\n",
    "cov = pd.read_excel(\"covariates.xlsx\", sheet_name='Ark1')"
   ]
  },
  {
   "cell_type": "code",
   "execution_count": 2,
   "id": "3624d835",
   "metadata": {
    "scrolled": true
   },
   "outputs": [
    {
     "name": "stdout",
     "output_type": "stream",
     "text": [
      "        Biomarker  IL-8  VEGF-A    OPG  TGF-beta-1  IL-6  CXCL9  CXCL1  IL-18  \\\n",
      "0      126-0weeks  7.63   11.51  10.20        8.83  3.52   6.16   9.45   7.91   \n",
      "1      126-6weeks  7.12   11.59  10.41        8.87  3.89   6.12   9.06   7.92   \n",
      "2      127-0weeks  6.93   10.92  10.30        6.59  2.73   6.14   7.31   7.95   \n",
      "3      127-6weeks  7.16   11.58  10.39        8.61  2.60   6.35   8.61   7.94   \n",
      "4    127-12months  6.87   11.13  10.25        7.44  3.92   6.15   8.79   7.94   \n",
      "..            ...   ...     ...    ...         ...   ...    ...    ...    ...   \n",
      "342    121-6weeks  7.21   12.89  10.69        8.90  3.14   5.97   8.00   8.17   \n",
      "343  121-12months  6.35   11.01   9.96        6.70  2.55   4.68   7.34   7.76   \n",
      "344    122-0weeks  7.86   12.80  10.73        9.30  2.93   6.73   9.60   8.25   \n",
      "345    122-6weeks  8.52   13.04  10.81        8.79  2.94   6.73   9.64   8.19   \n",
      "346    124-0weeks  6.51   11.38  10.07        7.78  3.29   5.97   7.17   8.68   \n",
      "\n",
      "     CSF-1  \n",
      "0     8.41  \n",
      "1     8.39  \n",
      "2     8.40  \n",
      "3     8.51  \n",
      "4     8.46  \n",
      "..     ...  \n",
      "342   8.42  \n",
      "343   8.11  \n",
      "344   8.60  \n",
      "345   8.64  \n",
      "346   8.55  \n",
      "\n",
      "[347 rows x 10 columns]\n"
     ]
    }
   ],
   "source": [
    "# Display the loaded data\n",
    "print(bio)"
   ]
  },
  {
   "cell_type": "code",
   "execution_count": 3,
   "id": "4081d2ae",
   "metadata": {
    "scrolled": true
   },
   "outputs": [
    {
     "name": "stdout",
     "output_type": "stream",
     "text": [
      "     PatientID  Age  Sex (1=male, 2=female)  Smoker (1=yes, 2=no)  \\\n",
      "0            1   56                       1                     2   \n",
      "1            3   32                       1                     2   \n",
      "2            4   43                       2                     2   \n",
      "3            5   25                       2                     2   \n",
      "4            6   39                       1                     2   \n",
      "..         ...  ...                     ...                   ...   \n",
      "113        143   55                       1                     1   \n",
      "114        149   46                       2                     2   \n",
      "115        150   57                       1                     1   \n",
      "116        151   25                       2                     2   \n",
      "117        152   53                       1                     2   \n",
      "\n",
      "     VAS-at-inclusion  Vas-12months  \n",
      "0                 3.0           4.0  \n",
      "1                 7.2           0.5  \n",
      "2                 2.7           0.5  \n",
      "3                 3.0           3.9  \n",
      "4                 3.5           5.0  \n",
      "..                ...           ...  \n",
      "113               6.0           2.0  \n",
      "114               5.0           9.0  \n",
      "115               1.0           9.0  \n",
      "116               8.0           6.0  \n",
      "117               9.0           1.2  \n",
      "\n",
      "[118 rows x 6 columns]\n"
     ]
    }
   ],
   "source": [
    "# Display the loaded data\n",
    "print(cov)"
   ]
  },
  {
   "cell_type": "code",
   "execution_count": null,
   "id": "8d59562c",
   "metadata": {},
   "outputs": [],
   "source": []
  },
  {
   "cell_type": "markdown",
   "id": "58e0988f",
   "metadata": {},
   "source": [
    "# Merge data from both files based on ID"
   ]
  },
  {
   "cell_type": "code",
   "execution_count": 4,
   "id": "177e5a90",
   "metadata": {
    "scrolled": true
   },
   "outputs": [
    {
     "name": "stdout",
     "output_type": "stream",
     "text": [
      "rows: 117\n"
     ]
    }
   ],
   "source": [
    "# Extract only the values at-inclusion in the bio\n",
    "filtered_bio = bio[bio['Biomarker'].str.endswith('0weeks')]\n",
    "# Count the number of rows\n",
    "rows = filtered_bio.shape[0]\n",
    "print(f'rows: {rows}')"
   ]
  },
  {
   "cell_type": "code",
   "execution_count": 5,
   "id": "57107026",
   "metadata": {
    "scrolled": true
   },
   "outputs": [
    {
     "name": "stdout",
     "output_type": "stream",
     "text": [
      "      Biomarker  IL-8  VEGF-A    OPG  TGF-beta-1  IL-6  CXCL9  CXCL1  IL-18  \\\n",
      "0    126-0weeks  7.63   11.51  10.20        8.83  3.52   6.16   9.45   7.91   \n",
      "2    127-0weeks  6.93   10.92  10.30        6.59  2.73   6.14   7.31   7.95   \n",
      "5    128-0weeks  8.62   12.51  10.56        8.51  3.71   7.34   9.90   8.72   \n",
      "8    129-0weeks  8.16   11.16  10.61        8.76  3.85   5.81   9.18   7.49   \n",
      "11   130-0weeks  8.81   12.53  11.23        9.41  4.22   6.35   9.34   9.00   \n",
      "..          ...   ...     ...    ...         ...   ...    ...    ...    ...   \n",
      "336  118-0weeks  7.81   12.05  10.35        7.91  4.10   6.66   7.66   9.37   \n",
      "338  119-0weeks  8.18   11.97  10.75        9.39  3.05   7.03   9.33   8.64   \n",
      "341  121-0weeks  7.01   12.53  10.91        8.74  3.08   5.95   7.61   8.27   \n",
      "344  122-0weeks  7.86   12.80  10.73        9.30  2.93   6.73   9.60   8.25   \n",
      "346  124-0weeks  6.51   11.38  10.07        7.78  3.29   5.97   7.17   8.68   \n",
      "\n",
      "     CSF-1 PatientID  \n",
      "0     8.41       126  \n",
      "2     8.40       127  \n",
      "5     8.72       128  \n",
      "8     8.39       129  \n",
      "11    9.78       130  \n",
      "..     ...       ...  \n",
      "336   8.54       118  \n",
      "338   8.64       119  \n",
      "341   8.52       121  \n",
      "344   8.60       122  \n",
      "346   8.55       124  \n",
      "\n",
      "[117 rows x 11 columns]\n"
     ]
    },
    {
     "name": "stderr",
     "output_type": "stream",
     "text": [
      "C:\\Users\\tanihara\\AppData\\Local\\Temp\\ipykernel_4904\\2528645147.py:2: SettingWithCopyWarning: \n",
      "A value is trying to be set on a copy of a slice from a DataFrame.\n",
      "Try using .loc[row_indexer,col_indexer] = value instead\n",
      "\n",
      "See the caveats in the documentation: https://pandas.pydata.org/pandas-docs/stable/user_guide/indexing.html#returning-a-view-versus-a-copy\n",
      "  filtered_bio['PatientID'] = filtered_bio['Biomarker'].apply(lambda x: x.split('-')[0])\n"
     ]
    }
   ],
   "source": [
    "# Extract ID numbers from filtered_bio\n",
    "filtered_bio['PatientID'] = filtered_bio['Biomarker'].apply(lambda x: x.split('-')[0])\n",
    "print(filtered_bio)"
   ]
  },
  {
   "cell_type": "code",
   "execution_count": 6,
   "id": "6ee367c5",
   "metadata": {},
   "outputs": [
    {
     "name": "stderr",
     "output_type": "stream",
     "text": [
      "C:\\Users\\tanihara\\AppData\\Local\\Temp\\ipykernel_4904\\2576291518.py:2: SettingWithCopyWarning: \n",
      "A value is trying to be set on a copy of a slice from a DataFrame.\n",
      "Try using .loc[row_indexer,col_indexer] = value instead\n",
      "\n",
      "See the caveats in the documentation: https://pandas.pydata.org/pandas-docs/stable/user_guide/indexing.html#returning-a-view-versus-a-copy\n",
      "  filtered_bio['PatientID'] = filtered_bio['PatientID'].astype(int)\n"
     ]
    }
   ],
   "source": [
    "# Convert the ID columns of filtered_bio and cov to integer type\n",
    "filtered_bio['PatientID'] = filtered_bio['PatientID'].astype(int)\n",
    "cov['PatientID'] = cov['PatientID'].astype(int)"
   ]
  },
  {
   "cell_type": "code",
   "execution_count": 7,
   "id": "9729ec73",
   "metadata": {
    "scrolled": true
   },
   "outputs": [
    {
     "name": "stdout",
     "output_type": "stream",
     "text": [
      "      Biomarker  IL-8  VEGF-A    OPG  TGF-beta-1  IL-6  CXCL9  CXCL1  IL-18  \\\n",
      "0    126-0weeks  7.63   11.51  10.20        8.83  3.52   6.16   9.45   7.91   \n",
      "1    127-0weeks  6.93   10.92  10.30        6.59  2.73   6.14   7.31   7.95   \n",
      "2    128-0weeks  8.62   12.51  10.56        8.51  3.71   7.34   9.90   8.72   \n",
      "3    129-0weeks  8.16   11.16  10.61        8.76  3.85   5.81   9.18   7.49   \n",
      "4    130-0weeks  8.81   12.53  11.23        9.41  4.22   6.35   9.34   9.00   \n",
      "..          ...   ...     ...    ...         ...   ...    ...    ...    ...   \n",
      "112  118-0weeks  7.81   12.05  10.35        7.91  4.10   6.66   7.66   9.37   \n",
      "113  119-0weeks  8.18   11.97  10.75        9.39  3.05   7.03   9.33   8.64   \n",
      "114  121-0weeks  7.01   12.53  10.91        8.74  3.08   5.95   7.61   8.27   \n",
      "115  122-0weeks  7.86   12.80  10.73        9.30  2.93   6.73   9.60   8.25   \n",
      "116  124-0weeks  6.51   11.38  10.07        7.78  3.29   5.97   7.17   8.68   \n",
      "\n",
      "     CSF-1  PatientID  Age  Sex (1=male, 2=female)  Smoker (1=yes, 2=no)  \\\n",
      "0     8.41        126   41                       2                     1   \n",
      "1     8.40        127   35                       1                     2   \n",
      "2     8.72        128   57                       2                     2   \n",
      "3     8.39        129   28                       1                     2   \n",
      "4     9.78        130   58                       2                     1   \n",
      "..     ...        ...  ...                     ...                   ...   \n",
      "112   8.54        118   52                       2                     1   \n",
      "113   8.64        119   41                       1                     2   \n",
      "114   8.52        121   34                       1                     1   \n",
      "115   8.60        122   44                       1                     2   \n",
      "116   8.55        124   29                       2                     2   \n",
      "\n",
      "     VAS-at-inclusion  Vas-12months  \n",
      "0                 6.5           0.0  \n",
      "1                 9.0          10.0  \n",
      "2                 8.0           4.0  \n",
      "3                 0.5           0.1  \n",
      "4                 6.0           5.0  \n",
      "..                ...           ...  \n",
      "112               3.0           3.0  \n",
      "113               6.5           0.5  \n",
      "114               6.5           0.2  \n",
      "115               8.0           5.0  \n",
      "116               4.0           1.3  \n",
      "\n",
      "[117 rows x 16 columns]\n"
     ]
    }
   ],
   "source": [
    "# Merge filtered_bio and cov based on ID\n",
    "merged_df = pd.merge(filtered_bio, cov, on='PatientID', how='inner')\n",
    "print(merged_df)"
   ]
  },
  {
   "cell_type": "markdown",
   "id": "0da53cdc",
   "metadata": {},
   "source": [
    "# Check the distribution of each biomarker"
   ]
  },
  {
   "cell_type": "code",
   "execution_count": 8,
   "id": "18f2f4f0",
   "metadata": {},
   "outputs": [],
   "source": [
    "# List of biomarker column names (excluding unnecessary columns)\n",
    "protein_columns = ['IL-8', 'VEGF-A', 'OPG', 'TGF-beta-1', 'IL-6', 'CXCL9', 'CXCL1', 'IL-18', 'CSF-1'] \n",
    "# Create a DataFrame that includes only the columns of biomarkers\n",
    "df_proteins = merged_df[protein_columns]"
   ]
  },
  {
   "cell_type": "code",
   "execution_count": 11,
   "id": "fbfb85c4",
   "metadata": {},
   "outputs": [
    {
     "data": {
      "image/png": "[encoded data removed]",
      "text/plain": [
       "<Figure size 200x100 with 1 Axes>"
      ]
     },
     "metadata": {},
     "output_type": "display_data"
    },
    {
     "data": {
      "image/png": "[encoded data removed]",
      "text/plain": [
       "<Figure size 200x100 with 1 Axes>"
      ]
     },
     "metadata": {},
     "output_type": "display_data"
    },
    {
     "data": {
      "image/png": "[encoded data removed]",
      "text/plain": [
       "<Figure size 200x100 with 1 Axes>"
      ]
     },
     "metadata": {},
     "output_type": "display_data"
    },
    {
     "data": {
      "image/png": "[encoded data removed]",
      "text/plain": [
       "<Figure size 200x100 with 1 Axes>"
      ]
     },
     "metadata": {},
     "output_type": "display_data"
    },
    {
     "data": {
      "image/png": "[encoded data removed]",
      "text/plain": [
       "<Figure size 200x100 with 1 Axes>"
      ]
     },
     "metadata": {},
     "output_type": "display_data"
    },
    {
     "data": {
      "image/png": "[encoded data removed]",
      "text/plain": [
       "<Figure size 200x100 with 1 Axes>"
      ]
     },
     "metadata": {},
     "output_type": "display_data"
    },
    {
     "data": {
      "image/png": "[encoded data removed]",
      "text/plain": [
       "<Figure size 200x100 with 1 Axes>"
      ]
     },
     "metadata": {},
     "output_type": "display_data"
    },
    {
     "data": {
      "image/png": "[encoded data removed]",
      "text/plain": [
       "<Figure size 200x100 with 1 Axes>"
      ]
     },
     "metadata": {},
     "output_type": "display_data"
    },
    {
     "data": {
      "image/png": "[encoded data removed]",
      "text/plain": [
       "<Figure size 200x100 with 1 Axes>"
      ]
     },
     "metadata": {},
     "output_type": "display_data"
    }
   ],
   "source": [
    "import matplotlib.pyplot as plt\n",
    "# Create histograms for each biomarker column\n",
    "for column in df_proteins.columns:\n",
    "    plt.figure(figsize=(2, 1))  \n",
    "    df_proteins[column].hist(bins=10) \n",
    "    plt.title(f'Distribution of {column}') \n",
    "    plt.xlabel(column) \n",
    "    plt.ylabel('Frequency') \n",
    "       \n",
    "    \n",
    "    plt.show"
   ]
  },
  {
   "cell_type": "code",
   "execution_count": 14,
   "id": "0d150f4a",
   "metadata": {},
   "outputs": [
    {
     "name": "stdout",
     "output_type": "stream",
     "text": [
      "IL-8: Statistics=0.968, p-value=0.007\n",
      "  -> The distribution of IL-8 may deviate from a normal distribution (significance level 0.05).\n",
      "\n",
      "VEGF-A: Statistics=0.978, p-value=0.054\n",
      "  -> The distribution of VEGF-A can be considered as normally distributed (significance level 0.05).\n",
      "\n",
      "OPG: Statistics=0.953, p-value=0.000\n",
      "  -> The distribution of OPG may deviate from a normal distribution (significance level 0.05).\n",
      "\n",
      "TGF-beta-1: Statistics=0.937, p-value=0.000\n",
      "  -> The distribution of TGF-beta-1 may deviate from a normal distribution (significance level 0.05).\n",
      "\n",
      "IL-6: Statistics=0.894, p-value=0.000\n",
      "  -> The distribution of IL-6 may deviate from a normal distribution (significance level 0.05).\n",
      "\n",
      "CXCL9: Statistics=0.816, p-value=0.000\n",
      "  -> The distribution of CXCL9 may deviate from a normal distribution (significance level 0.05).\n",
      "\n",
      "IL-18: Statistics=0.992, p-value=0.711\n",
      "  -> The distribution of IL-18 can be considered as normally distributed (significance level 0.05).\n",
      "\n",
      "CSF-1: Statistics=0.963, p-value=0.003\n",
      "  -> The distribution of CSF-1 may deviate from a normal distribution (significance level 0.05).\n",
      "\n"
     ]
    }
   ],
   "source": [
    "import scipy.stats as stats\n",
    "\n",
    "# Perform the Shapiro-Wilk test for each biomarker\n",
    "for column in df_proteins.columns:\n",
    "    stat, p = stats.shapiro(df_proteins[column])\n",
    "    print(f'{column}: Statistics={stat:.3f}, p-value={p:.3f}')\n",
    "    \n",
    "   \n",
    "    if p > 0.05:\n",
    "        print(f\"  -> The distribution of {column} can be considered as normally distributed (significance level 0.05).\\n\")\n",
    "    else:\n",
    "        print(f\"  -> The distribution of {column} may deviate from a normal distribution (significance level 0.05).\\n\")"
   ]
  },
  {
   "cell_type": "code",
   "execution_count": null,
   "id": "6b097eee",
   "metadata": {},
   "outputs": [],
   "source": []
  },
  {
   "cell_type": "markdown",
   "id": "f2b333b8",
   "metadata": {},
   "source": [
    "#　Conduct tests for comparing means"
   ]
  },
  {
   "cell_type": "code",
   "execution_count": 14,
   "id": "f57b55a5",
   "metadata": {},
   "outputs": [
    {
     "name": "stdout",
     "output_type": "stream",
     "text": [
      "The average IL-8 value for the group with VAS-at-inclusion of 5 or more: 7.8835\n",
      "The average IL-8 value for the group with VAS-at-inclusion less than 5: 7.363513513513515\n",
      "t-value: 3.312786502552862, p-value: 0.0013491064032483653\n"
     ]
    }
   ],
   "source": [
    "# Compare the mean values of IL-8 between groups with VAS-at-inclusion of 5 or more and less than 5\n",
    "from scipy import stats\n",
    "\n",
    "# Group with VAS-at-inclusion of 5 or more\n",
    "IL_1 = merged_df[merged_df['VAS-at-inclusion'] >= 5]['IL-8']\n",
    "\n",
    "# VGroup with VAS-at-inclusion of less than 5\n",
    "IL_2 = merged_df[merged_df['VAS-at-inclusion'] < 5]['IL-8']\n",
    "\n",
    "# 各グループの平均値を計算\n",
    "mean_IL_1 = IL_1.mean()\n",
    "mean_IL_2 = IL_2.mean()\n",
    "\n",
    "# 2つのグループ間でt検定を実施\n",
    "t_stat, p_value = stats.ttest_ind(IL_1, IL_2, equal_var=False)  # 等分散を仮定しない\n",
    "\n",
    "print(f'The average IL-8 value for the group with VAS-at-inclusion of 5 or more: {mean_IL_1}')\n",
    "print(f'The average IL-8 value for the group with VAS-at-inclusion less than 5: {mean_IL_2}')\n",
    "print(f't-value: {t_stat}, p-value: {p_value}')"
   ]
  },
  {
   "cell_type": "code",
   "execution_count": 15,
   "id": "859bc0e9",
   "metadata": {},
   "outputs": [
    {
     "name": "stdout",
     "output_type": "stream",
     "text": [
      "The average VEGF-A value for the group with VAS-at-inclusion of 5 or more: 11.937125\n",
      "The average VEGF-A value for the group with VAS-at-inclusion less than 5: 11.741891891891893\n",
      "t-value: 1.4162958205244889, p-value: 0.1615676552404966\n"
     ]
    }
   ],
   "source": [
    "# VAS-at-inclusionが5以上のグループ\n",
    "VEGF_1 = merged_df[merged_df['VAS-at-inclusion'] >= 5]['VEGF-A']\n",
    "# VAS-at-inclusionが5未満のグループ\n",
    "VEGF_2 = merged_df[merged_df['VAS-at-inclusion'] < 5]['VEGF-A']\n",
    "\n",
    "# 各グループの平均値を計算\n",
    "mean_VEGF_1 = VEGF_1.mean()\n",
    "mean_VEGF_2 = VEGF_2.mean()\n",
    "\n",
    "# 2つのグループ間でt検定を実施\n",
    "t_stat, p_value = stats.ttest_ind(VEGF_1, VEGF_2, equal_var=False)  # 等分散を仮定しない\n",
    "\n",
    "print(f'The average VEGF-A value for the group with VAS-at-inclusion of 5 or more: {mean_VEGF_1}')\n",
    "print(f'The average VEGF-A value for the group with VAS-at-inclusion less than 5: {mean_VEGF_2}')\n",
    "print(f't-value: {t_stat}, p-value: {p_value}')"
   ]
  },
  {
   "cell_type": "code",
   "execution_count": 18,
   "id": "a72761a6",
   "metadata": {},
   "outputs": [
    {
     "name": "stdout",
     "output_type": "stream",
     "text": [
      "The average OPG value for the group with VAS-at-inclusion of 5 or more: 10.738125\n",
      "The average OPG value for the group with VAS-at-inclusion less than 5: 10.70864864864865\n",
      "t-value: 0.3702605484212078, p-value: 0.7121552178537096\n"
     ]
    }
   ],
   "source": [
    "# VAS-at-inclusionが5以上のグループ\n",
    "OPG_1 = merged_df[merged_df['VAS-at-inclusion'] >= 5]['OPG']\n",
    "# VAS-at-inclusionが5未満のグループ\n",
    "OPG_2 = merged_df[merged_df['VAS-at-inclusion'] < 5]['OPG']\n",
    "\n",
    "# 各グループの平均値を計算\n",
    "mean_OPG_1 = OPG_1.mean()\n",
    "mean_OPG_2 = OPG_2.mean()\n",
    "\n",
    "# 2つのグループ間でt検定を実施\n",
    "t_stat, p_value = stats.ttest_ind(OPG_1, OPG_2, equal_var=False)  # 等分散を仮定しない\n",
    "\n",
    "print(f'The average OPG value for the group with VAS-at-inclusion of 5 or more: {mean_OPG_1}')\n",
    "print(f'The average OPG value for the group with VAS-at-inclusion less than 5: {mean_OPG_2}')\n",
    "print(f't-value: {t_stat}, p-value: {p_value}')"
   ]
  },
  {
   "cell_type": "code",
   "execution_count": 19,
   "id": "6ab47a69",
   "metadata": {},
   "outputs": [
    {
     "name": "stdout",
     "output_type": "stream",
     "text": [
      "The average TGF value for the group with VAS-at-inclusion of 5 or more: 8.362\n",
      "The average TGF value for the group with VAS-at-inclusion less than 5: 7.985945945945945\n",
      "t-value: 2.0562165377385266, p-value: 0.0434586036015222\n"
     ]
    }
   ],
   "source": [
    "# VAS-at-inclusionが5以上のグループ\n",
    "TGF_1 = merged_df[merged_df['VAS-at-inclusion'] >= 5]['TGF-beta-1']\n",
    "# VAS-at-inclusionが5未満のグループ\n",
    "TGF_2 = merged_df[merged_df['VAS-at-inclusion'] < 5]['TGF-beta-1']\n",
    "\n",
    "# 各グループの平均値を計算\n",
    "mean_TGF_1 = TGF_1.mean()\n",
    "mean_TGF_2 = TGF_2.mean()\n",
    "\n",
    "# 2つのグループ間でt検定を実施\n",
    "t_stat, p_value = stats.ttest_ind(TGF_1, TGF_2, equal_var=False)  # 等分散を仮定しない\n",
    "\n",
    "print(f'The average TGF value for the group with VAS-at-inclusion of 5 or more: {mean_TGF_1}')\n",
    "print(f'The average TGF value for the group with VAS-at-inclusion less than 5: {mean_TGF_2}')\n",
    "print(f't-value: {t_stat}, p-value: {p_value}')"
   ]
  },
  {
   "cell_type": "code",
   "execution_count": 20,
   "id": "4d046bae",
   "metadata": {},
   "outputs": [
    {
     "name": "stdout",
     "output_type": "stream",
     "text": [
      "The average IL-6 value for the group with VAS-at-inclusion of 5 or more: 3.3146250000000004\n",
      "The average IL-6 value for the group with VAS-at-inclusion less than 5: 3.378378378378379\n",
      "t-value: -0.3208141040238915, p-value: 0.7493107266648378\n"
     ]
    }
   ],
   "source": [
    "# VAS-at-inclusionが5以上のグループ\n",
    "IL6_1 = merged_df[merged_df['VAS-at-inclusion'] >= 5]['IL-6']\n",
    "# VAS-at-inclusionが5未満のグループ\n",
    "IL6_2 = merged_df[merged_df['VAS-at-inclusion'] < 5]['IL-6']\n",
    "\n",
    "# 各グループの平均値を計算\n",
    "mean_IL6_1 = IL6_1.mean()\n",
    "mean_IL6_2 = IL6_2.mean()\n",
    "\n",
    "# 2つのグループ間でt検定を実施\n",
    "t_stat, p_value = stats.ttest_ind(IL6_1, IL6_2, equal_var=False)  # 等分散を仮定しない\n",
    "\n",
    "print(f'The average IL-6 value for the group with VAS-at-inclusion of 5 or more: {mean_IL6_1}')\n",
    "print(f'The average IL-6 value for the group with VAS-at-inclusion less than 5: {mean_IL6_2}')\n",
    "print(f't-value: {t_stat}, p-value: {p_value}')"
   ]
  },
  {
   "cell_type": "code",
   "execution_count": 21,
   "id": "b505456c",
   "metadata": {},
   "outputs": [
    {
     "name": "stdout",
     "output_type": "stream",
     "text": [
      "The average CXCL9 value for the group with VAS-at-inclusion of 5 or more: 6.676375000000002\n",
      "The average CXCL9 value for the group with VAS-at-inclusion less than 5: 6.513513513513513\n",
      "t-value: 1.009187455548421, p-value: 0.31557012785119665\n"
     ]
    }
   ],
   "source": [
    "# VAS-at-inclusionが5以上のグループ\n",
    "CXCL9_1 = merged_df[merged_df['VAS-at-inclusion'] >= 5]['CXCL9']\n",
    "# VAS-at-inclusionが5未満のグループ\n",
    "CXCL9_2 = merged_df[merged_df['VAS-at-inclusion'] < 5]['CXCL9']\n",
    "\n",
    "# 各グループの平均値を計算\n",
    "mean_CXCL9_1 = CXCL9_1.mean()\n",
    "mean_CXCL9_2 = CXCL9_2.mean()\n",
    "\n",
    "# 2つのグループ間でt検定を実施\n",
    "t_stat, p_value = stats.ttest_ind(CXCL9_1, CXCL9_2, equal_var=False)  # 等分散を仮定しない\n",
    "\n",
    "print(f'The average CXCL9 value for the group with VAS-at-inclusion of 5 or more: {mean_CXCL9_1}')\n",
    "print(f'The average CXCL9 value for the group with VAS-at-inclusion less than 5: {mean_CXCL9_2}')\n",
    "print(f't-value: {t_stat}, p-value: {p_value}')"
   ]
  },
  {
   "cell_type": "code",
   "execution_count": 22,
   "id": "43980073",
   "metadata": {},
   "outputs": [
    {
     "name": "stdout",
     "output_type": "stream",
     "text": [
      "The average CXCL1 value for the group with VAS-at-inclusion of 5 or more: 8.831375\n",
      "The average CXCL1 value for the group with VAS-at-inclusion less than 5: 8.325405405405407\n",
      "t-value: 2.1171598619452214, p-value: 0.03769376252714301\n"
     ]
    }
   ],
   "source": [
    "# VAS-at-inclusionが5以上のグループ\n",
    "CXCL1_1 = merged_df[merged_df['VAS-at-inclusion'] >= 5]['CXCL1']\n",
    "# VAS-at-inclusionが5未満のグループ\n",
    "CXCL1_2 = merged_df[merged_df['VAS-at-inclusion'] < 5]['CXCL1']\n",
    "\n",
    "# 各グループの平均値を計算\n",
    "mean_CXCL1_1 = CXCL1_1.mean()\n",
    "mean_CXCL1_2 = CXCL1_2.mean()\n",
    "\n",
    "# 2つのグループ間でt検定を実施\n",
    "t_stat, p_value = stats.ttest_ind(CXCL1_1, CXCL1_2, equal_var=False)  # 等分散を仮定しない\n",
    "\n",
    "print(f'The average CXCL1 value for the group with VAS-at-inclusion of 5 or more: {mean_CXCL1_1}')\n",
    "print(f'The average CXCL1 value for the group with VAS-at-inclusion less than 5: {mean_CXCL1_2}')\n",
    "print(f't-value: {t_stat}, p-value: {p_value}')"
   ]
  },
  {
   "cell_type": "code",
   "execution_count": 23,
   "id": "167e8572",
   "metadata": {},
   "outputs": [
    {
     "name": "stdout",
     "output_type": "stream",
     "text": [
      "The average IL-18 value for the group with VAS-at-inclusion of 5 or more: 8.437375\n",
      "The average IL-18 value for the group with VAS-at-inclusion less than 5: 8.226216216216216\n",
      "t-value: 1.8184930008701419, p-value: 0.07306015400599246\n"
     ]
    }
   ],
   "source": [
    "# VAS-at-inclusionが5以上のグループ\n",
    "IL18_1 = merged_df[merged_df['VAS-at-inclusion'] >= 5]['IL-18']\n",
    "# VAS-at-inclusionが5未満のグループ\n",
    "IL18_2 = merged_df[merged_df['VAS-at-inclusion'] < 5]['IL-18']\n",
    "\n",
    "# 各グループの平均値を計算\n",
    "mean_IL18_1 = IL18_1.mean()\n",
    "mean_IL18_2 = IL18_2.mean()\n",
    "\n",
    "# 2つのグループ間でt検定を実施\n",
    "t_stat, p_value = stats.ttest_ind(IL18_1, IL18_2, equal_var=False)  # 等分散を仮定しない\n",
    "\n",
    "print(f'The average IL-18 value for the group with VAS-at-inclusion of 5 or more: {mean_IL18_1}')\n",
    "print(f'The average IL-18 value for the group with VAS-at-inclusion less than 5: {mean_IL18_2}')\n",
    "print(f't-value: {t_stat}, p-value: {p_value}')"
   ]
  },
  {
   "cell_type": "code",
   "execution_count": 24,
   "id": "06282bb1",
   "metadata": {},
   "outputs": [
    {
     "name": "stdout",
     "output_type": "stream",
     "text": [
      "The average CSF-1 value for the group with VAS-at-inclusion of 5 or more: 8.60925\n",
      "The average CSF-1 value for the group with VAS-at-inclusion less than 5: 8.576216216216217\n",
      "t-value: 0.6072830901080019, p-value: 0.5453882655077427\n"
     ]
    }
   ],
   "source": [
    "# VAS-at-inclusionが5以上のグループ\n",
    "CSF_1 = merged_df[merged_df['VAS-at-inclusion'] >= 5]['CSF-1']\n",
    "# VAS-at-inclusionが5未満のグループ\n",
    "CSF_2 = merged_df[merged_df['VAS-at-inclusion'] < 5]['CSF-1']\n",
    "\n",
    "# 各グループの平均値を計算\n",
    "mean_CSF_1 = CSF_1.mean()\n",
    "mean_CSF_2 = CSF_2.mean()\n",
    "\n",
    "# 2つのグループ間でt検定を実施\n",
    "t_stat, p_value = stats.ttest_ind(CSF_1, CSF_2, equal_var=False)  # 等分散を仮定しない\n",
    "\n",
    "print(f'The average CSF-1 value for the group with VAS-at-inclusion of 5 or more: {mean_CSF_1}')\n",
    "print(f'The average CSF-1 value for the group with VAS-at-inclusion less than 5: {mean_CSF_2}')\n",
    "print(f't-value: {t_stat}, p-value: {p_value}')"
   ]
  },
  {
   "cell_type": "code",
   "execution_count": 17,
   "id": "d339a677",
   "metadata": {},
   "outputs": [
    {
     "name": "stdout",
     "output_type": "stream",
     "text": [
      "U-statistic=2012.00, p-value=0.002\n"
     ]
    }
   ],
   "source": [
    "# マン・ホイットニーのU検定の実施\n",
    "from scipy.stats import mannwhitneyu\n",
    "\n",
    "# VAS-at-inclusionが5以上のグループ\n",
    "IL_1 = merged_df[merged_df['VAS-at-inclusion'] >= 5]['IL-8']\n",
    "# VAS-at-inclusionが5未満のグループ\n",
    "IL_2 = merged_df[merged_df['VAS-at-inclusion'] < 5]['IL-8']\n",
    "\n",
    "# 2つのグループ間でt検定を実施\n",
    "stat, p = mannwhitneyu(IL_1, IL_2)\n",
    "print(f'U-statistic={stat:.2f}, p-value={p:.3f}')"
   ]
  },
  {
   "cell_type": "code",
   "execution_count": 18,
   "id": "734913c6",
   "metadata": {},
   "outputs": [
    {
     "name": "stdout",
     "output_type": "stream",
     "text": [
      "U-statistic=1505.00, p-value=0.886\n"
     ]
    }
   ],
   "source": [
    "# VAS-at-inclusionが5以上のグループ\n",
    "OPG_1 = merged_df[merged_df['VAS-at-inclusion'] >= 5]['OPG']\n",
    "# VAS-at-inclusionが5未満のグループ\n",
    "OPG_2 = merged_df[merged_df['VAS-at-inclusion'] < 5]['OPG']\n",
    "\n",
    "# 2つのグループ間でt検定を実施\n",
    "stat, p = mannwhitneyu(OPG_1, OPG_2)\n",
    "print(f'U-statistic={stat:.2f}, p-value={p:.3f}')"
   ]
  },
  {
   "cell_type": "code",
   "execution_count": 21,
   "id": "532de2da",
   "metadata": {},
   "outputs": [
    {
     "name": "stdout",
     "output_type": "stream",
     "text": [
      "U-statistic=1821.50, p-value=0.046\n"
     ]
    }
   ],
   "source": [
    "# VAS-at-inclusionが5以上のグループ\n",
    "TGF_1 = merged_df[merged_df['VAS-at-inclusion'] >= 5]['TGF-beta-1']\n",
    "# VAS-at-inclusionが5未満のグループ\n",
    "TGF_2 = merged_df[merged_df['VAS-at-inclusion'] < 5]['TGF-beta-1']\n",
    "\n",
    "# 2つのグループ間でt検定を実施\n",
    "stat, p = mannwhitneyu(TGF_1, TGF_2)\n",
    "print(f'U-statistic={stat:.2f}, p-value={p:.3f}')"
   ]
  },
  {
   "cell_type": "code",
   "execution_count": 22,
   "id": "f58ee38c",
   "metadata": {},
   "outputs": [
    {
     "name": "stdout",
     "output_type": "stream",
     "text": [
      "U-statistic=1431.00, p-value=0.776\n"
     ]
    }
   ],
   "source": [
    "# VAS-at-inclusionが5以上のグループ\n",
    "IL6_1 = merged_df[merged_df['VAS-at-inclusion'] >= 5]['IL-6']\n",
    "# VAS-at-inclusionが5未満のグループ\n",
    "IL6_2 = merged_df[merged_df['VAS-at-inclusion'] < 5]['IL-6']\n",
    "\n",
    "# 2つのグループ間でt検定を実施\n",
    "stat, p = mannwhitneyu(IL6_1, IL6_2)\n",
    "print(f'U-statistic={stat:.2f}, p-value={p:.3f}')"
   ]
  },
  {
   "cell_type": "code",
   "execution_count": 23,
   "id": "a7f92260",
   "metadata": {},
   "outputs": [
    {
     "name": "stdout",
     "output_type": "stream",
     "text": [
      "U-statistic=1650.00, p-value=0.320\n"
     ]
    }
   ],
   "source": [
    "# VAS-at-inclusionが5以上のグループ\n",
    "CXCL9_1 = merged_df[merged_df['VAS-at-inclusion'] >= 5]['CXCL9']\n",
    "# VAS-at-inclusionが5未満のグループ\n",
    "CXCL9_2 = merged_df[merged_df['VAS-at-inclusion'] < 5]['CXCL9']\n",
    "\n",
    "# 2つのグループ間でt検定を実施\n",
    "stat, p = mannwhitneyu(CXCL9_1, CXCL9_2)\n",
    "print(f'U-statistic={stat:.2f}, p-value={p:.3f}')"
   ]
  },
  {
   "cell_type": "code",
   "execution_count": 24,
   "id": "079f7d67",
   "metadata": {},
   "outputs": [
    {
     "name": "stdout",
     "output_type": "stream",
     "text": [
      "U-statistic=1853.00, p-value=0.029\n"
     ]
    }
   ],
   "source": [
    "# VAS-at-inclusionが5以上のグループ\n",
    "CXCL1_1 = merged_df[merged_df['VAS-at-inclusion'] >= 5]['CXCL1']\n",
    "# VAS-at-inclusionが5未満のグループ\n",
    "CXCL1_2 = merged_df[merged_df['VAS-at-inclusion'] < 5]['CXCL1']\n",
    "\n",
    "# 2つのグループ間でt検定を実施\n",
    "stat, p = mannwhitneyu(CXCL1_1, CXCL1_2)\n",
    "print(f'U-statistic={stat:.2f}, p-value={p:.3f}')"
   ]
  },
  {
   "cell_type": "code",
   "execution_count": 25,
   "id": "e8475296",
   "metadata": {},
   "outputs": [
    {
     "name": "stdout",
     "output_type": "stream",
     "text": [
      "U-statistic=1787.00, p-value=0.072\n"
     ]
    }
   ],
   "source": [
    "# VAS-at-inclusionが5以上のグループ\n",
    "IL18_1 = merged_df[merged_df['VAS-at-inclusion'] >= 5]['IL-18']\n",
    "# VAS-at-inclusionが5未満のグループ\n",
    "IL18_2 = merged_df[merged_df['VAS-at-inclusion'] < 5]['IL-18']\n",
    "\n",
    "# 2つのグループ間でt検定を実施\n",
    "stat, p = mannwhitneyu(IL18_1, IL18_2)\n",
    "print(f'U-statistic={stat:.2f}, p-value={p:.3f}')"
   ]
  },
  {
   "cell_type": "code",
   "execution_count": 26,
   "id": "7878cddb",
   "metadata": {},
   "outputs": [
    {
     "name": "stdout",
     "output_type": "stream",
     "text": [
      "U-statistic=1534.50, p-value=0.752\n"
     ]
    }
   ],
   "source": [
    "# VAS-at-inclusionが5以上のグループ\n",
    "CSF1_1 = merged_df[merged_df['VAS-at-inclusion'] >= 5]['CSF-1']\n",
    "# VAS-at-inclusionが5未満のグループ\n",
    "CSF1_2 = merged_df[merged_df['VAS-at-inclusion'] < 5]['CSF-1']\n",
    "\n",
    "# 2つのグループ間でt検定を実施\n",
    "stat, p = mannwhitneyu(CSF1_1, CSF1_2)\n",
    "print(f'U-statistic={stat:.2f}, p-value={p:.3f}')"
   ]
  },
  {
   "cell_type": "code",
   "execution_count": null,
   "id": "69bbb118",
   "metadata": {},
   "outputs": [],
   "source": []
  }
 ],
 "metadata": {
  "kernelspec": {
   "display_name": "Python 3",
   "language": "python",
   "name": "python3"
  },
  "language_info": {
   "codemirror_mode": {
    "name": "ipython",
    "version": 3
   },
   "file_extension": ".py",
   "mimetype": "text/x-python",
   "name": "python",
   "nbconvert_exporter": "python",
   "pygments_lexer": "ipython3",
   "version": "3.11.4"
  }
 },
 "nbformat": 4,
 "nbformat_minor": 5
}
